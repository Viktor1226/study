{
 "cells": [
  {
   "cell_type": "code",
   "execution_count": 2,
   "metadata": {},
   "outputs": [
    {
     "data": {
      "text/plain": [
       "<telebot.types.Message at 0x1e1165a5be0>"
      ]
     },
     "execution_count": 2,
     "metadata": {},
     "output_type": "execute_result"
    }
   ],
   "source": [
    "import telebot\n",
    "bot = telebot.TeleBot(\"5885895441:AAFNX3VW6-4rCHVGWoSNcjt4OqkLRWY2h24\")\n",
    "bot.send_message(875856367, 'Hello World!')"
   ]
  },
  {
   "cell_type": "code",
   "execution_count": 3,
   "metadata": {},
   "outputs": [
    {
     "ename": "RuntimeError",
     "evalue": "This event loop is already running",
     "output_type": "error",
     "traceback": [
      "\u001b[1;31m---------------------------------------------------------------------------\u001b[0m",
      "\u001b[1;31mRuntimeError\u001b[0m                              Traceback (most recent call last)",
      "File \u001b[1;32mc:\\Python39\\lib\\site-packages\\aiogram\\utils\\executor.py:320\u001b[0m, in \u001b[0;36mExecutor.start_polling\u001b[1;34m(self, reset_webhook, timeout, relax, fast, allowed_updates)\u001b[0m\n\u001b[0;32m    319\u001b[0m \u001b[39mtry\u001b[39;00m:\n\u001b[1;32m--> 320\u001b[0m     loop\u001b[39m.\u001b[39;49mrun_until_complete(\u001b[39mself\u001b[39;49m\u001b[39m.\u001b[39;49m_startup_polling())\n\u001b[0;32m    321\u001b[0m     loop\u001b[39m.\u001b[39mcreate_task(\u001b[39mself\u001b[39m\u001b[39m.\u001b[39mdispatcher\u001b[39m.\u001b[39mstart_polling(reset_webhook\u001b[39m=\u001b[39mreset_webhook, timeout\u001b[39m=\u001b[39mtimeout,\n\u001b[0;32m    322\u001b[0m                                                    relax\u001b[39m=\u001b[39mrelax, fast\u001b[39m=\u001b[39mfast, allowed_updates\u001b[39m=\u001b[39mallowed_updates))\n",
      "File \u001b[1;32mc:\\Python39\\lib\\asyncio\\base_events.py:623\u001b[0m, in \u001b[0;36mBaseEventLoop.run_until_complete\u001b[1;34m(self, future)\u001b[0m\n\u001b[0;32m    622\u001b[0m \u001b[39mself\u001b[39m\u001b[39m.\u001b[39m_check_closed()\n\u001b[1;32m--> 623\u001b[0m \u001b[39mself\u001b[39;49m\u001b[39m.\u001b[39;49m_check_running()\n\u001b[0;32m    625\u001b[0m new_task \u001b[39m=\u001b[39m \u001b[39mnot\u001b[39;00m futures\u001b[39m.\u001b[39misfuture(future)\n",
      "File \u001b[1;32mc:\\Python39\\lib\\asyncio\\base_events.py:583\u001b[0m, in \u001b[0;36mBaseEventLoop._check_running\u001b[1;34m(self)\u001b[0m\n\u001b[0;32m    582\u001b[0m \u001b[39mif\u001b[39;00m \u001b[39mself\u001b[39m\u001b[39m.\u001b[39mis_running():\n\u001b[1;32m--> 583\u001b[0m     \u001b[39mraise\u001b[39;00m \u001b[39mRuntimeError\u001b[39;00m(\u001b[39m'\u001b[39m\u001b[39mThis event loop is already running\u001b[39m\u001b[39m'\u001b[39m)\n\u001b[0;32m    584\u001b[0m \u001b[39mif\u001b[39;00m events\u001b[39m.\u001b[39m_get_running_loop() \u001b[39mis\u001b[39;00m \u001b[39mnot\u001b[39;00m \u001b[39mNone\u001b[39;00m:\n",
      "\u001b[1;31mRuntimeError\u001b[0m: This event loop is already running",
      "\nDuring handling of the above exception, another exception occurred:\n",
      "\u001b[1;31mRuntimeError\u001b[0m                              Traceback (most recent call last)",
      "Cell \u001b[1;32mIn[3], line 9\u001b[0m\n\u001b[0;32m      5\u001b[0m \u001b[39m@dp\u001b[39m\u001b[39m.\u001b[39mmessage_handler(content_types\u001b[39m=\u001b[39m[\u001b[39m'\u001b[39m\u001b[39mtext\u001b[39m\u001b[39m'\u001b[39m])\n\u001b[0;32m      6\u001b[0m \u001b[39masync\u001b[39;00m \u001b[39mdef\u001b[39;00m \u001b[39mstart\u001b[39m(message: types\u001b[39m.\u001b[39mMessage):\n\u001b[0;32m      7\u001b[0m     \u001b[39mawait\u001b[39;00m message\u001b[39m.\u001b[39manswer(\u001b[39m'\u001b[39m\u001b[39mздорово\u001b[39m\u001b[39m'\u001b[39m)\n\u001b[1;32m----> 9\u001b[0m executor\u001b[39m.\u001b[39;49mstart_polling(dp)\n",
      "File \u001b[1;32mc:\\Python39\\lib\\site-packages\\aiogram\\utils\\executor.py:45\u001b[0m, in \u001b[0;36mstart_polling\u001b[1;34m(dispatcher, loop, skip_updates, reset_webhook, on_startup, on_shutdown, timeout, relax, fast, allowed_updates)\u001b[0m\n\u001b[0;32m     42\u001b[0m executor \u001b[39m=\u001b[39m Executor(dispatcher, skip_updates\u001b[39m=\u001b[39mskip_updates, loop\u001b[39m=\u001b[39mloop)\n\u001b[0;32m     43\u001b[0m _setup_callbacks(executor, on_startup, on_shutdown)\n\u001b[1;32m---> 45\u001b[0m executor\u001b[39m.\u001b[39;49mstart_polling(\n\u001b[0;32m     46\u001b[0m     reset_webhook\u001b[39m=\u001b[39;49mreset_webhook,\n\u001b[0;32m     47\u001b[0m     timeout\u001b[39m=\u001b[39;49mtimeout,\n\u001b[0;32m     48\u001b[0m     relax\u001b[39m=\u001b[39;49mrelax,\n\u001b[0;32m     49\u001b[0m     fast\u001b[39m=\u001b[39;49mfast,\n\u001b[0;32m     50\u001b[0m     allowed_updates\u001b[39m=\u001b[39;49mallowed_updates\n\u001b[0;32m     51\u001b[0m )\n",
      "File \u001b[1;32mc:\\Python39\\lib\\site-packages\\aiogram\\utils\\executor.py:328\u001b[0m, in \u001b[0;36mExecutor.start_polling\u001b[1;34m(self, reset_webhook, timeout, relax, fast, allowed_updates)\u001b[0m\n\u001b[0;32m    326\u001b[0m     \u001b[39mpass\u001b[39;00m\n\u001b[0;32m    327\u001b[0m \u001b[39mfinally\u001b[39;00m:\n\u001b[1;32m--> 328\u001b[0m     loop\u001b[39m.\u001b[39;49mrun_until_complete(\u001b[39mself\u001b[39;49m\u001b[39m.\u001b[39;49m_shutdown_polling())\n\u001b[0;32m    329\u001b[0m     log\u001b[39m.\u001b[39mwarning(\u001b[39m\"\u001b[39m\u001b[39mGoodbye!\u001b[39m\u001b[39m\"\u001b[39m)\n",
      "File \u001b[1;32mc:\\Python39\\lib\\asyncio\\base_events.py:623\u001b[0m, in \u001b[0;36mBaseEventLoop.run_until_complete\u001b[1;34m(self, future)\u001b[0m\n\u001b[0;32m    612\u001b[0m \u001b[39m\u001b[39m\u001b[39m\"\"\"Run until the Future is done.\u001b[39;00m\n\u001b[0;32m    613\u001b[0m \n\u001b[0;32m    614\u001b[0m \u001b[39mIf the argument is a coroutine, it is wrapped in a Task.\u001b[39;00m\n\u001b[1;32m   (...)\u001b[0m\n\u001b[0;32m    620\u001b[0m \u001b[39mReturn the Future's result, or raise its exception.\u001b[39;00m\n\u001b[0;32m    621\u001b[0m \u001b[39m\"\"\"\u001b[39;00m\n\u001b[0;32m    622\u001b[0m \u001b[39mself\u001b[39m\u001b[39m.\u001b[39m_check_closed()\n\u001b[1;32m--> 623\u001b[0m \u001b[39mself\u001b[39;49m\u001b[39m.\u001b[39;49m_check_running()\n\u001b[0;32m    625\u001b[0m new_task \u001b[39m=\u001b[39m \u001b[39mnot\u001b[39;00m futures\u001b[39m.\u001b[39misfuture(future)\n\u001b[0;32m    626\u001b[0m future \u001b[39m=\u001b[39m tasks\u001b[39m.\u001b[39mensure_future(future, loop\u001b[39m=\u001b[39m\u001b[39mself\u001b[39m)\n",
      "File \u001b[1;32mc:\\Python39\\lib\\asyncio\\base_events.py:583\u001b[0m, in \u001b[0;36mBaseEventLoop._check_running\u001b[1;34m(self)\u001b[0m\n\u001b[0;32m    581\u001b[0m \u001b[39mdef\u001b[39;00m \u001b[39m_check_running\u001b[39m(\u001b[39mself\u001b[39m):\n\u001b[0;32m    582\u001b[0m     \u001b[39mif\u001b[39;00m \u001b[39mself\u001b[39m\u001b[39m.\u001b[39mis_running():\n\u001b[1;32m--> 583\u001b[0m         \u001b[39mraise\u001b[39;00m \u001b[39mRuntimeError\u001b[39;00m(\u001b[39m'\u001b[39m\u001b[39mThis event loop is already running\u001b[39m\u001b[39m'\u001b[39m)\n\u001b[0;32m    584\u001b[0m     \u001b[39mif\u001b[39;00m events\u001b[39m.\u001b[39m_get_running_loop() \u001b[39mis\u001b[39;00m \u001b[39mnot\u001b[39;00m \u001b[39mNone\u001b[39;00m:\n\u001b[0;32m    585\u001b[0m         \u001b[39mraise\u001b[39;00m \u001b[39mRuntimeError\u001b[39;00m(\n\u001b[0;32m    586\u001b[0m             \u001b[39m'\u001b[39m\u001b[39mCannot run the event loop while another loop is running\u001b[39m\u001b[39m'\u001b[39m)\n",
      "\u001b[1;31mRuntimeError\u001b[0m: This event loop is already running"
     ]
    }
   ],
   "source": [
    "from aiogram import Bot, Dispatcher, executor, types\n",
    "import asyncio\n",
    "bot = Bot(\"5885895441:AAFNX3VW6-4rCHVGWoSNcjt4OqkLRWY2h24\")\n",
    "dp = Dispatcher(bot)\n",
    "@dp.message_handler(content_types=['text'])\n",
    "async def start(message: types.Message):\n",
    "    await message.answer('здорово')\n",
    "\n",
    "executor.start_polling(dp)"
   ]
  }
 ],
 "metadata": {
  "kernelspec": {
   "display_name": "Python 3",
   "language": "python",
   "name": "python3"
  },
  "language_info": {
   "codemirror_mode": {
    "name": "ipython",
    "version": 3
   },
   "file_extension": ".py",
   "mimetype": "text/x-python",
   "name": "python",
   "nbconvert_exporter": "python",
   "pygments_lexer": "ipython3",
   "version": "3.9.13"
  },
  "orig_nbformat": 4
 },
 "nbformat": 4,
 "nbformat_minor": 2
}
